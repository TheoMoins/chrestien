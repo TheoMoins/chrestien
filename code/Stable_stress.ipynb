{
 "cells": [
  {
   "cell_type": "markdown",
   "id": "b5e76442",
   "metadata": {},
   "source": [
    "## Protocol to be tested\n",
    "\n",
    "\n",
    "### H1: Stress patterns are more stable features to bypass scribal variation than (lemmatised) function words, rhymes, etc.\n",
    "\n",
    "\n",
    "Test:\n",
    "\n",
    "1. Take samples from different copies of same text\n",
    "2. measure cosine distance for different sets of features\n",
    "3. boxplot them"
   ]
  },
  {
   "cell_type": "markdown",
   "id": "39743392",
   "metadata": {},
   "source": [
    "### H2: Stress patterns are reliable feature for authorship attribution\n",
    "\n",
    "1. Take random samples of feature tokens in \n",
    "  a. Same author different text;\n",
    "  b. impostor texts\n",
    "  \n",
    " 2. Measure cosine distance \n",
    " 3. boxplot them"
   ]
  },
  {
   "cell_type": "markdown",
   "id": "f3f53160",
   "metadata": {},
   "source": [
    "### Datasets\n",
    "\n",
    "- Chrestien and friends\n",
    "- fabliaux\n",
    "- ?\n"
   ]
  }
 ],
 "metadata": {
  "kernelspec": {
   "display_name": "superstyl",
   "language": "python",
   "name": "superstyl"
  },
  "language_info": {
   "codemirror_mode": {
    "name": "ipython",
    "version": 3
   },
   "file_extension": ".py",
   "mimetype": "text/x-python",
   "name": "python",
   "nbconvert_exporter": "python",
   "pygments_lexer": "ipython3",
   "version": "3.10.12"
  }
 },
 "nbformat": 4,
 "nbformat_minor": 5
}
